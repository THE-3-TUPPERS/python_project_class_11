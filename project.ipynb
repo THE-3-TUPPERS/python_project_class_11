{
 "cells": [
  {
   "cell_type": "markdown",
   "metadata": {},
   "source": [
    "## ASCII Bot Generator\n",
    "\n",
    "\n",
    "This is an ASCII Bot Generator written in Python to generate random bots made from ASCII Art.\n",
    "\n",
    "This project makes use of all concepts and modules are taught in Class 11th like `random` module, lists, dictionaries, strings, functions etc. The usage is really simple:\n",
    "\n",
    "\n",
    "- `random_id()` returns a random 5 digit hex number in string.\n",
    "- `generate(string)` returns an ASCII Art Bot depending upon the 5 digit number.\n",
    "\n",
    "### License\n",
    "\n",
    "Released under MIT.\n",
    "\n",
    "\n",
    "### Team\n",
    "\n",
    "- Swastik Barawnal\n",
    "- Raghav Sharma\n",
    "- Shivalik Mathur"
   ]
  },
  {
   "cell_type": "code",
   "execution_count": 62,
   "metadata": {},
   "outputs": [],
   "source": [
    "import random\n",
    "\n",
    "# Parts needed for the Bot Creation\n",
    "templates = {\n",
    "\t\"0\": r\"     ___T_     \\n    | o o |    \\n    |__-__|    \\n    /| []|\\    \\n  ()/|___|\\()  \\n     |_|_|     \\n     /_|_\\     \",\n",
    "\t\"1\": r\"    \\.===./    \\n    | b d |    \\n     \\_=_/     \\n  o==|ooo|==o  \\n     |___|     \\n    .'._.'.    \\n    |_| |_|    \",\n",
    "\t\"2\": r\"     o___o     \\n    //0-0\\\\    \\n    |\\_-_/|    \\n    /|(\\)|\\    \\n   d |___| b   \\n    . \\_/  .   \\n   . .:::.. .  \",\n",
    "\t\"3\": r\"     T___      \\n     |[o]|     \\n     \\_-_/     \\n  7--|=0=|--<  \\n     |___|     \\n     // \\\\    \\n    _\\ //_    \",\n",
    "\t\"4\": r\"      )_(      \\n     |ooo|     \\n     |_#_|     \\n .-._/___\\_.-. \\n ;   \\___/   ; \\n     (   )     \\n    __) (__    \",\n",
    "\t\"5\": r\"     |---|     \\n     |6=6|     \\n     |_o_|     \\n}-. /\\--o/\\ .-{\\n   \\\" |___| \\\"   \\n      .\\\".      \\n      |_|      \",\n",
    "\t\"6\": r\"     .---.     \\n    } - - {    \\n     \\_0_/     \\n   .=[::+]=.   \\n ]=' [___] '=[ \\n     /| |\\     \\n    [_] [_]    \",\n",
    "\t\"7\": r\"      Y__      \\n    _/o o\\_    \\n     \\_o_/     \\n )=o=|L88|=o=( \\n )=o=|___|=o=( \\n  .  /___\\  .  \\n. ..:::::::.  .\",\n",
    "\t\"8\": r\"     .===.     \\n    //d d\\\\    \\n    \\_u_//    \\n    ,=|x|=.    \\n    'c/_\\  'c  \\n     /| |\\     \\n    (0) (0)    \",\n",
    "\t\"9\": r\"     _._._     \\n    -)o o(-    \\n     \\_=_/     \\n()ooo|\\=/|ooo()\\n     |___|     \\n      |_|      \\n     (ooo)     \",\n",
    "\t\"a\": r\"    .=._,=.    \\n   ' (q q) `   \\n     _)-(_     \\n.'c .\\\"|_|\\\". n`.\\n'--'  /_\\  `--'\\n    _// \\_    \\n   /_o| |o_\\   \",\n",
    "\t\"b\": r\"      .-.      \\n   ._(u u)_.   \\n     (_-_)     \\n   .=(+++)=.   \\no=\\\"  (___)  \\\"=o\\n     (_|_)     \\n     (o|o)     \",\n",
    "\t\"c\": r\"     ,_,_,     \\n     \\9 9/     \\n     /_-_\\     \\n   ,\\\"|+  |\\\".   \\n   _\\|+__|/_   \\n     /  |      \\n    _\\  |_     \",\n",
    "\t\"d\": r\"     .===./`   \\n    /.n n.\\    \\n    \\\"\\_=_/\\\"    \\n  (m9\\:::/\\    \\n     /___\\6    \\n     [] []     \\n    /:] [:\\    \",\n",
    "\t\"e\": r\"      __i      \\n     [p q]     \\n      ]-[      \\n >===]__o[===< \\n     [o__]     \\n     ]| |[     \\n    [_| |_]    \",\n",
    "\t\"f\": r\"   _ _,_,_ _   \\n   \\( q p )/   \\n     \\_\\\"_/     \\n  .==|>o<|==:=L\\n  '=c|___|     \\n     /7 [|     \\n   \\/7  [|_    \",\n",
    "}\n",
    "\n",
    "eyes = {\n",
    "\t\"0\": \"o o\",\n",
    "\t\"1\": \"p q\",\n",
    "\t\"2\": \"q p\",\n",
    "\t\"3\": \"d b\",\n",
    "\t\"4\": \"b d\",\n",
    "\t\"5\": \"ooo\",\n",
    "\t\"6\": \"[o]\",\n",
    "\t\"7\": \"9 9\",\n",
    "\t\"8\": \"6=6\",\n",
    "\t\"9\": \"u u\",\n",
    "\t\"a\": \"n n\",\n",
    "\t\"b\": \"q q\",\n",
    "\t\"c\": \"d d\",\n",
    "\t\"d\": \"- -\",\n",
    "\t\"e\": \"0 0\",\n",
    "\t\"f\": \"O O\",\n",
    "}\n",
    "\n",
    "mouths = {\n",
    "\t\"0\": \"-\",\n",
    "\t\"1\": \"=\",\n",
    "\t\"2\": \"o\",\n",
    "\t\"3\": \"O\",\n",
    "\t\"4\": \"0\",\n",
    "\t\"5\": \"#\",\n",
    "\t\"6\": \"u\",\n",
    "\t\"7\": \"v\",\n",
    "\t\"8\": \"n\",\n",
    "\t\"9\": \"r\",\n",
    "\t\"a\": \"`\",\n",
    "\t\"b\": \"^\",\n",
    "\t\"c\": \"A\",\n",
    "\t\"d\": \"@\",\n",
    "\t\"e\": \"e\",\n",
    "\t\"f\": \"E\",\n",
    "}\n",
    "\n",
    "# random_id() returns a random 5 digit hex number in form of a string.\n",
    "def random_id():\n",
    "    out = ''\n",
    "    for i in range(1, 6):\n",
    "        out += hex(random.randint(0, 15)).replace('0x', '')\n",
    "    return out\n",
    "\n",
    "# generate generates a random ASCII bot according to the hexadecimal number provided\n",
    "def generate(id):\n",
    "    if len(id) != 5:\n",
    "        return ValueError('id length must be equal to 5')\n",
    "    str = list(map(hex_only, id))\n",
    "    if len(str) != 5:\n",
    "        return ValueError('id must be 5 hexadecimal characters [0-9a-f]')\n",
    "    out = ''\n",
    "    # generate body\n",
    "    top, _, _ = split(templates[str[0]])\n",
    "    _, center, _ = split(templates[str[1]])\n",
    "    _, _, bottom = split(templates[str[2]])\n",
    "\n",
    "    out += top\n",
    "    out += center\n",
    "    out += bottom\n",
    "\n",
    "    # replace eyes\n",
    "    out = replace(out, eyes[str[3]], 6, 1)\n",
    "    # replace mouth\n",
    "    out = replace(out, mouths[str[4]], 7, 2)\n",
    "    return out\n",
    " \n",
    "def hex_only(r):\n",
    "    if r in '0 1 2 3 4 5 6 7 8 9 a b c d e f A B C D E F'.split(' '):\n",
    "        return r\n",
    "    else:\n",
    "        return ''\n",
    "\n",
    "# split splits template into top, center and bottom parts\n",
    "def split(template):\n",
    "    s = template.split(r'\\n')\n",
    "    top = '\\n'.join(s[0:3]) + '\\n'\n",
    "    center = '\\n'.join(s[3:5]) + '\\n'\n",
    "    bottom = '\\n'.join(s[5:7])\n",
    "    return top, center, bottom\n",
    "\n",
    "# replace replaces body parts at position x,y\n",
    "def replace(body, replace, x, y):\n",
    "    lines = body.split('\\n')\n",
    "    lines[y] = lines[y][0:x] + replace + lines[y][x + len(replace):]\n",
    "    return '\\n'.join(lines)\n"
   ]
  },
  {
   "cell_type": "code",
   "execution_count": 63,
   "metadata": {},
   "outputs": [
    {
     "name": "stdout",
     "output_type": "stream",
     "text": [
      "edcf5\n"
     ]
    }
   ],
   "source": [
    "print(random_id())"
   ]
  },
  {
   "cell_type": "code",
   "execution_count": 60,
   "metadata": {},
   "outputs": [
    {
     "name": "stdout",
     "output_type": "stream",
     "text": [
      "     |---|     \n",
      "     |d d|     \n",
      "     |_A_|     \n",
      "   ,\\\"|+  |\\\".   \n",
      "   _\\|+__|/_   \n",
      "     (_|_)     \n",
      "     (o|o)     \n"
     ]
    }
   ],
   "source": [
    "print(generate(random_id()))"
   ]
  }
 ],
 "metadata": {
  "kernelspec": {
   "display_name": "Python 3",
   "language": "python",
   "name": "python3"
  },
  "language_info": {
   "codemirror_mode": {
    "name": "ipython",
    "version": 3
   },
   "file_extension": ".py",
   "mimetype": "text/x-python",
   "name": "python",
   "nbconvert_exporter": "python",
   "pygments_lexer": "ipython3",
   "version": "3.6.4"
  }
 },
 "nbformat": 4,
 "nbformat_minor": 2
}
